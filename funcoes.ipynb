{
 "cells": [
  {
   "cell_type": "markdown",
   "metadata": {},
   "source": [
    "# Introdução\n",
    "Uma funcão é uma unidade de código que é definido de acordo com sua utilidade dentro uma código maior. Especificamente, uma função é uma pedaço de código que trabalhar com valores diferentes de entradas definidas pelos seus parâmetros (variáveis especiais) e produz uma saída (retorno) através da alteração de sua entrada.\n",
    "\n",
    "## PROTIP: Quando fazer uma função?\n",
    "Um bom indicativo de criação de uma função é o famoso *copy and paste*. Sempre que tivermos a urgência de copiar e colar um pedaço de código, pense: \"Será que vale a pena fazer uma função desse pedaço de código em vez de copiá-lo?\"."
   ]
  },
  {
   "cell_type": "markdown",
   "metadata": {},
   "source": [
    "# Definindo uma função"
   ]
  },
  {
   "cell_type": "code",
   "execution_count": 1,
   "metadata": {},
   "outputs": [],
   "source": [
    "def potencia(base, expoente):\n",
    "    \n",
    "    res = 1\n",
    "    for i in range(expoente):\n",
    "        res *= base \n",
    "    \n",
    "    return res"
   ]
  },
  {
   "cell_type": "code",
   "execution_count": 2,
   "metadata": {},
   "outputs": [
    {
     "name": "stdout",
     "output_type": "stream",
     "text": [
      "8\n"
     ]
    }
   ],
   "source": [
    "print(potencia(2, 3))"
   ]
  },
  {
   "cell_type": "code",
   "execution_count": 4,
   "metadata": {},
   "outputs": [
    {
     "name": "stdout",
     "output_type": "stream",
     "text": [
      "11\n"
     ]
    }
   ],
   "source": [
    "r = potencia(3, 2)\n",
    "\n",
    "r = r + 2\n",
    "\n",
    "print(r)"
   ]
  },
  {
   "cell_type": "code",
   "execution_count": 5,
   "metadata": {},
   "outputs": [
    {
     "name": "stdout",
     "output_type": "stream",
     "text": [
      "1\n"
     ]
    }
   ],
   "source": [
    "b = 4\n",
    "e = 0\n",
    "\n",
    "r = potencia(b, e)\n",
    "\n",
    "print(r)"
   ]
  },
  {
   "cell_type": "markdown",
   "metadata": {},
   "source": [
    "# Exercício (X min)\n",
    "Rascunhe uma FUNCÃO que receba duas listas com o mesmo número de elementos e retorne a soma das potências com as bases sendo os elementos da primeira lista e os expoentes sendo os elementos da segunda. DICA: Você pode (e deve) chamar funções dentro de outras funções. Para esse exercício, chame a função anterior dentro da a função a ser projetada."
   ]
  },
  {
   "cell_type": "code",
   "execution_count": 7,
   "metadata": {},
   "outputs": [],
   "source": [
    "def soma_potencias(bases, expoentes):\n",
    "    res = 0\n",
    "    \n",
    "    for i in range(len(bases)):\n",
    "        res += potencia(bases[i], expoentes[i])\n",
    "        \n",
    "    return res"
   ]
  },
  {
   "cell_type": "code",
   "execution_count": 9,
   "metadata": {},
   "outputs": [
    {
     "name": "stdout",
     "output_type": "stream",
     "text": [
      "8\n"
     ]
    }
   ],
   "source": [
    "bases = [1, 2, 3]\n",
    "expoentes = [3, 2, 1]\n",
    "\n",
    "blah = soma_potencias(bases, expoentes)\n",
    "\n",
    "print(blah)"
   ]
  },
  {
   "cell_type": "markdown",
   "metadata": {},
   "source": [
    "# Escopo de variável"
   ]
  },
  {
   "cell_type": "code",
   "execution_count": 10,
   "metadata": {},
   "outputs": [
    {
     "name": "stdout",
     "output_type": "stream",
     "text": [
      "f = 10 | a = 3\n"
     ]
    }
   ],
   "source": [
    "a = 3 # variável GLOBAL: pode ser acessada em todo seu programa\n",
    "\n",
    "def f(b):\n",
    "    c = a + b # 'c' é uma variável LOCAL.\n",
    "    \n",
    "    return c\n",
    "\n",
    "print('f =', f(7), '| a =', a)"
   ]
  },
  {
   "cell_type": "code",
   "execution_count": 11,
   "metadata": {},
   "outputs": [
    {
     "name": "stdout",
     "output_type": "stream",
     "text": [
      "f2 = 8 | a = 8\n"
     ]
    }
   ],
   "source": [
    "a = 3\n",
    "\n",
    "def f2(b):\n",
    "    global a # necessário para alterar uma variável global\n",
    "    \n",
    "    a = a + b\n",
    "    \n",
    "    return a\n",
    "\n",
    "print('f2 =', f2(5), '| a =', a)"
   ]
  },
  {
   "cell_type": "code",
   "execution_count": 14,
   "metadata": {},
   "outputs": [
    {
     "name": "stdout",
     "output_type": "stream",
     "text": [
      "f3_a = 2\n",
      "f3_c =  9\n",
      "f3 = 2 | a = 3\n"
     ]
    }
   ],
   "source": [
    "c = 7\n",
    "\n",
    "def f3(a, b):\n",
    "    print('f3_a =', a) # valor do parâmetro 'a' (variável local)\n",
    "    \n",
    "    c = a + b\n",
    "    \n",
    "    print(\"f3_c = \", c)\n",
    "    \n",
    "    return a\n",
    "\n",
    "a = 3\n",
    "\n",
    "print('f3 =', f3(2, 7), '| a =', a)"
   ]
  },
  {
   "cell_type": "markdown",
   "metadata": {},
   "source": [
    "# Exercício: busca linear/sequencial (X min)\n",
    "Rascunhe uma função que receba uma lista de inteiros e uma variável simples inteira e retorne a posição da variável na lista (entre 0 e o número de elementos da lista menos 1) se ela estiver presente ou -1 caso contrário."
   ]
  },
  {
   "cell_type": "code",
   "execution_count": 17,
   "metadata": {},
   "outputs": [],
   "source": [
    "def busca_linear(lista, chave):\n",
    "    l = []\n",
    "    for i in range(len(lista)):\n",
    "        if chave == lista[i]:\n",
    "            l.append(i)\n",
    "            \n",
    "    if len(l) == 0:\n",
    "        return -1\n",
    "    \n",
    "    return l"
   ]
  },
  {
   "cell_type": "code",
   "execution_count": 24,
   "metadata": {},
   "outputs": [
    {
     "name": "stdout",
     "output_type": "stream",
     "text": [
      "[ 4 14 12 10 10  7  0]\n",
      "19\n",
      "-1\n"
     ]
    }
   ],
   "source": [
    "import numpy as np\n",
    "\n",
    "l = ´[]\n",
    "l = np.random.randint(0, 20, 7)\n",
    "\n",
    "print(l)\n",
    "\n",
    "chave = np.random.randint(0, 20, 1)[0]\n",
    "\n",
    "print(chave)\n",
    "\n",
    "pos = busca_linear(l, chave)\n",
    "\n",
    "print(pos)"
   ]
  }
 ],
 "metadata": {
  "kernelspec": {
   "display_name": "Python 3",
   "language": "python",
   "name": "python3"
  },
  "language_info": {
   "codemirror_mode": {
    "name": "ipython",
    "version": 3
   },
   "file_extension": ".py",
   "mimetype": "text/x-python",
   "name": "python",
   "nbconvert_exporter": "python",
   "pygments_lexer": "ipython3",
   "version": "3.6.5"
  }
 },
 "nbformat": 4,
 "nbformat_minor": 2
}
