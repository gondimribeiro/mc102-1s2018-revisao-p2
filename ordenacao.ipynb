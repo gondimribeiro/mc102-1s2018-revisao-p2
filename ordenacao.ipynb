{
 "cells": [
  {
   "cell_type": "markdown",
   "metadata": {},
   "source": [
    "# Introdução\n",
    "\n",
    "Algorítmo de ordenação é um algorítmo (duh?) que organiza os elementos de uma lista de acordo com uma _relação de ordem_ específica. Os tipos mais comuns de relações de ordem são a ordem numérica e a ordem lexicográfica (alfabética).\n",
    "\n",
    "## PROTIP: diferenciação dos algorítmos\n",
    "\n",
    "1. Quanto à recursividade: \n",
    "   - Não recursivos: Bubble, Insertion e Selection\n",
    "   - Recursivos: Merge e Quick\n",
    "\n",
    "\n",
    "2. Quanto à eficiência:\n",
    "   - Menos eficientes: Bubble, Insertion e Selection\n",
    "   - Mais eficientes: Merge e Quick\n",
    "\n",
    "Algorítmos de ordenação recursivos são mais eficientes. :)\n"
   ]
  },
  {
   "cell_type": "markdown",
   "metadata": {},
   "source": [
    "# Exercício: Bubble Sort (X min)\n",
    "\n",
    "Implemente o algorítmo de ordenação não recursivo Bubble Sort. Este algorítmo tem como macro-característica a ordenação da lista do maior elemento para o menor. Cada passo do algorítimo compara dois elementos adjacentes da lista trocando-os de posição caso eles estejam fora de ordem. Ao término do passo, o maior elemento estará na última posição da lista, então, \"remove-se\" o último elemento da lista e repete o passo enquanto a lista tiver mais de um elemento."
   ]
  },
  {
   "cell_type": "code",
   "execution_count": 4,
   "metadata": {},
   "outputs": [],
   "source": [
    "import numpy as np\n",
    "\n",
    "def bubblesort(lista):\n",
    "    n = len(lista)\n",
    "    \n",
    "    for i in range(n):\n",
    "        for j in range(0, n - i - 1):\n",
    "            if lista[j] > lista[j + 1]:\n",
    "                lista[j], lista[j + 1] = lista[j + 1], lista[j]"
   ]
  },
  {
   "cell_type": "code",
   "execution_count": 6,
   "metadata": {},
   "outputs": [
    {
     "name": "stdout",
     "output_type": "stream",
     "text": [
      "[20 25 53 24 86 27 23 37 92 74 96 39 56  3 34 24 51 64 94 83]\n",
      "[ 3 20 23 24 24 25 27 34 37 39 51 53 56 64 74 83 86 92 94 96]\n"
     ]
    }
   ],
   "source": [
    "v = np.random.randint(0, 100, 20)\n",
    "\n",
    "print(v)\n",
    "\n",
    "bubblesort(v)\n",
    "\n",
    "print(v)"
   ]
  },
  {
   "cell_type": "markdown",
   "metadata": {},
   "source": [
    "# Exercício: Insertion Sort (X min)\n",
    "\n",
    "Implemente o algorítmo não recursivo Insertion Sort. A ideia principal desse algorítmo é partir de uma sublista ordenada pequena (1 elemento) e, a cada passo, pegar o elemento seguinte da lista original e inserí-lo na posição correta na sublista deslocando os elementos maiores uma casa para a direita."
   ]
  },
  {
   "cell_type": "code",
   "execution_count": 11,
   "metadata": {},
   "outputs": [],
   "source": [
    "def insertionsort(lista):\n",
    "    n = len(lista)\n",
    "    \n",
    "    for i in range(n - 1):\n",
    "        \n",
    "        tmp = lista[i + 1]\n",
    "        \n",
    "        j = i\n",
    "        while j >= 0 and lista[j] > tmp:\n",
    "            lista[j + 1] = lista[j]\n",
    "            j -= 1\n",
    "            \n",
    "        lista[j + 1] = tmp"
   ]
  },
  {
   "cell_type": "code",
   "execution_count": 12,
   "metadata": {
    "scrolled": true
   },
   "outputs": [
    {
     "name": "stdout",
     "output_type": "stream",
     "text": [
      "[86 16 15 60 23 22  7 97 52 14 28 54 94 57 46  5  7 50 55 56]\n",
      "[ 5  7  7 14 15 16 22 23 28 46 50 52 54 55 56 57 60 86 94 97]\n"
     ]
    }
   ],
   "source": [
    "v = np.random.randint(0, 100, 20)\n",
    "\n",
    "print(v)\n",
    "\n",
    "insertionsort(v)\n",
    "\n",
    "print(v)"
   ]
  },
  {
   "cell_type": "markdown",
   "metadata": {},
   "source": [
    "# Exercício: Selection Sort (X min)\n",
    "\n",
    "Implemente o algorítmo não recursivo Selection Sort. Esse algorítmo consiste em buscar o menor elemento na list inteira e colocá-lo na primeira posição. Em seguida, \"elimina-se\" o primeiro elemento e repete-se o processo para a lista resultante até todos os elementos estarem ordenados."
   ]
  },
  {
   "cell_type": "code",
   "execution_count": 13,
   "metadata": {},
   "outputs": [],
   "source": [
    "def selectionsort(lista):\n",
    "    n = len(lista)\n",
    "    \n",
    "    for i in range(n - 1):\n",
    "        \n",
    "        pos_min = i\n",
    "        for j in range(i + 1, n):\n",
    "            if lista[j] < lista[pos_min]:\n",
    "                pos_min = j\n",
    "                \n",
    "        lista[i], lista[pos_min] = lista[pos_min], lista[i]"
   ]
  },
  {
   "cell_type": "code",
   "execution_count": 15,
   "metadata": {},
   "outputs": [
    {
     "name": "stdout",
     "output_type": "stream",
     "text": [
      "[51 16 35 22 44 66 37 55 46 16 82 44 76  4 21  8 14 72 92 82]\n",
      "[ 4  8 14 16 16 21 22 35 37 44 44 46 51 55 66 72 76 82 82 92]\n"
     ]
    }
   ],
   "source": [
    "v = np.random.randint(0, 100, 20)\n",
    "\n",
    "print(v)\n",
    "\n",
    "selectionsort(v)\n",
    "\n",
    "print(v)"
   ]
  },
  {
   "cell_type": "markdown",
   "metadata": {},
   "source": [
    "# Exemplo: Merge Sort\n",
    "\n",
    "Esse algoritmo consiste em dividir a lista em duas metades, ordenar essas metades recursivamente e, em seguida, fundir essas metades colocando os elementos de cada uma delas em sua correta posição."
   ]
  },
  {
   "cell_type": "code",
   "execution_count": 17,
   "metadata": {},
   "outputs": [],
   "source": [
    "def intercala(v1, v2):\n",
    "    n1 = len(v1)\n",
    "    n2 = len(v2)\n",
    "    \n",
    "    i1 = 0\n",
    "    i2 = 0\n",
    "    \n",
    "    res = []\n",
    "    \n",
    "    while (i1 < n1 and i2 < n2):\n",
    "        if v1[i1] < v2[i2]:\n",
    "            res.append(v1[i1])\n",
    "            i1 += 1\n",
    "        else:\n",
    "            res.append(v2[i2])\n",
    "            i2 += 1\n",
    "            \n",
    "    while i1 < n1:\n",
    "        res.append(v1[i1])\n",
    "        i1 += 1\n",
    "        \n",
    "    while i2 < n2:\n",
    "        res.append(v2[i2])\n",
    "        i2 += 1\n",
    "\n",
    "    \n",
    "    return res\n",
    "    \n",
    "def mergesort(lista):\n",
    "    if len(lista) > 1:\n",
    "        m = len(lista) // 2\n",
    "        \n",
    "        mergesort(lista[:m])\n",
    "        mergesort(lista[m:])\n",
    "        \n",
    "        res = intercala(lista[:m], lista[m:])\n",
    "        \n",
    "        for i in range(len(lista)):\n",
    "            lista[i] = res[i]"
   ]
  },
  {
   "cell_type": "code",
   "execution_count": 18,
   "metadata": {},
   "outputs": [
    {
     "name": "stdout",
     "output_type": "stream",
     "text": [
      "[ 5 72 37 60 62 62  3 74 12 15 19 22 42 86 56 84 91 35 23 27]\n",
      "[ 3  5 12 15 19 22 23 27 35 37 42 56 60 62 62 72 74 84 86 91]\n"
     ]
    }
   ],
   "source": [
    "v = np.random.randint(0, 100, 20)\n",
    "\n",
    "print(v)\n",
    "\n",
    "mergesort(v)\n",
    "\n",
    "print(v)"
   ]
  },
  {
   "cell_type": "markdown",
   "metadata": {},
   "source": [
    "# Exemplo: Quick Sort\n",
    "\n",
    "Esse algoritmo consiste em escolher um pivô (elemento de referência), particionar sua lista original colocando todos os elementos menores que o pivo à sua esquerda e todos os elementos maiores que o pivo a sua direita. Ao final da partição, o pivo estará em sua posição certa. Repete-se o procedimento recursivamente para cada umas das duas metades ignorando o pivô."
   ]
  },
  {
   "cell_type": "code",
   "execution_count": null,
   "metadata": {},
   "outputs": [],
   "source": [
    "def particiona(lista, inf, sup):\n",
    "    pivo = lista[sup]\n",
    "    \n",
    "    i = inf\n",
    "    for j in range(inf, sup):\n",
    "        if lista[j] < pivo:\n",
    "            lista[i], lista[j] = lista[j], lista[i]\n",
    "            i += 1\n",
    "        \n",
    "    lista[i], lista[sup] = lista[sup], lista[i]\n",
    "    return i\n",
    "    \n",
    "def quicksort(lista, inf, sup):\n",
    "    if inf < sup:\n",
    "        p = particiona(lista, inf, sup)\n",
    "        \n",
    "        quicksort(lista, inf, p - 1)\n",
    "        quicksort(lista, p + 1, sup)"
   ]
  },
  {
   "cell_type": "code",
   "execution_count": null,
   "metadata": {},
   "outputs": [],
   "source": [
    "v = np.random.randint(0, 100, 20)\n",
    "\n",
    "print(v)\n",
    "\n",
    "quicksort(v, 0, len(v) - 1)\n",
    "\n",
    "print(v)"
   ]
  },
  {
   "cell_type": "markdown",
   "metadata": {},
   "source": [
    "# Visualização\n",
    "\n",
    "https://www.toptal.com/developers/sorting-algorithms"
   ]
  }
 ],
 "metadata": {
  "kernelspec": {
   "display_name": "Python 3",
   "language": "python",
   "name": "python3"
  },
  "language_info": {
   "codemirror_mode": {
    "name": "ipython",
    "version": 3
   },
   "file_extension": ".py",
   "mimetype": "text/x-python",
   "name": "python",
   "nbconvert_exporter": "python",
   "pygments_lexer": "ipython3",
   "version": "3.6.5"
  }
 },
 "nbformat": 4,
 "nbformat_minor": 2
}
