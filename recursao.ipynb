{
 "cells": [
  {
   "cell_type": "markdown",
   "metadata": {},
   "source": [
    "# Introdução\n",
    "Em programação, uma funcão recursiva é uma funcão que chama a ela mesma. \n",
    "\n",
    "É bem comum encontrarmos problemas que são difíceis ou complexos de resolver em sua forma normal. Às vezes, esses problemas podem ser dividos em problemas pequenos e parecidos entre si cujas soluções podem ser agrupadas a fim de resolver o problema original.\n",
    "\n",
    "## PROTIP: Como criar uma função recursiva?\n",
    "\n",
    "Uma funcão recursiva SEMPRE tem pelo menos um caso base e pelo menos um passo recursivo. O caso base resolve os menores casos possíveis do problema e passo recursivo constrói uma solução intermerdiária maior que o(s) caso(s) base a partir de uma ou mais chamadas recursivas."
   ]
  },
  {
   "cell_type": "markdown",
   "metadata": {},
   "source": [
    "# Exemplo: fatorial"
   ]
  },
  {
   "cell_type": "code",
   "execution_count": 1,
   "metadata": {},
   "outputs": [],
   "source": [
    "def fatorial(n):\n",
    "    \n",
    "    # Caso base: fatorial de zero é definido como 1\n",
    "    if n == 0:\n",
    "        return 1\n",
    "    \n",
    "    # Passo recursivo: o fatorial de n é igual a n vezes o fatorial de n - 1.\n",
    "    return n * fatorial(n - 1)"
   ]
  },
  {
   "cell_type": "code",
   "execution_count": 2,
   "metadata": {},
   "outputs": [
    {
     "name": "stdout",
     "output_type": "stream",
     "text": [
      "1\n"
     ]
    }
   ],
   "source": [
    "print(fatorial(0))"
   ]
  },
  {
   "cell_type": "code",
   "execution_count": 3,
   "metadata": {},
   "outputs": [
    {
     "name": "stdout",
     "output_type": "stream",
     "text": [
      "6\n"
     ]
    }
   ],
   "source": [
    "print(fatorial(3))"
   ]
  },
  {
   "cell_type": "code",
   "execution_count": 4,
   "metadata": {},
   "outputs": [
    {
     "name": "stdout",
     "output_type": "stream",
     "text": [
      "3628800\n"
     ]
    }
   ],
   "source": [
    "print(fatorial(10))"
   ]
  },
  {
   "cell_type": "markdown",
   "metadata": {},
   "source": [
    "# Exercício: Fibonacci (X min)\n",
    "\n",
    "Rascunhe uma funcão recursiva $Fib$ que receba um número inteiro não negativo $n$ e compute o n-ésimo elemento da sequência definida como:\n",
    "- $Fib(0) = 1$\n",
    "- $Fib(1) = 1$\n",
    "- $Fib(n) = Fib(n - 1) + Fib(n - 2)$"
   ]
  },
  {
   "cell_type": "code",
   "execution_count": 6,
   "metadata": {},
   "outputs": [],
   "source": [
    "def Fib(n):\n",
    "    \n",
    "    if n == 0 or n == 1:\n",
    "        return 1\n",
    "    \n",
    "    return Fib(n - 1) + Fib(n - 2)"
   ]
  },
  {
   "cell_type": "code",
   "execution_count": 7,
   "metadata": {},
   "outputs": [
    {
     "data": {
      "text/plain": [
       "8"
      ]
     },
     "execution_count": 7,
     "metadata": {},
     "output_type": "execute_result"
    }
   ],
   "source": [
    "Fib(5)"
   ]
  },
  {
   "cell_type": "markdown",
   "metadata": {},
   "source": [
    "# Exemplo: Torre de Hanoi\n",
    "\n",
    "Imagem extraída de http://goo.gl/iKJuqu.\n",
    "![hanoi](hanoi.png \"\")"
   ]
  },
  {
   "cell_type": "code",
   "execution_count": 8,
   "metadata": {},
   "outputs": [],
   "source": [
    "def hanoi(n, a, b, c):\n",
    "    \n",
    "    if n == 1: # Caso base\n",
    "        print(\"Disco 1 de %c para %c\" % (a, c))\n",
    "        return\n",
    "    \n",
    "    # Passo recursivo\n",
    "    hanoi(n-1, a, c, b)\n",
    "    print(\"Disco %d de %c para %c\" % (n, a, c))\n",
    "    hanoi(n-1, b, a, c)"
   ]
  },
  {
   "cell_type": "code",
   "execution_count": 9,
   "metadata": {},
   "outputs": [
    {
     "name": "stdout",
     "output_type": "stream",
     "text": [
      "Disco 1 de A para C\n",
      "Disco 2 de A para B\n",
      "Disco 1 de C para B\n",
      "Disco 3 de A para C\n",
      "Disco 1 de B para A\n",
      "Disco 2 de B para C\n",
      "Disco 1 de A para C\n"
     ]
    }
   ],
   "source": [
    "hanoi(3, 'A', 'B', 'C')"
   ]
  },
  {
   "cell_type": "markdown",
   "metadata": {},
   "source": [
    "# Exercício: busca binária (X min)\n",
    "\n",
    "Rascunhe uma função RECURSIVA que receba uma lista ORDENADA de inteiros e um variável inteira simples (chave) e retorne a posição da variável na lista (entre 0 e o número de elementos da lista menos 1) se ela estiver presente ou -1 caso contrário. __NÃO__ vale uma busca linear. Use a seguinte ideia: como os elementos estão ordenados, se a chave for igual ao elemento central da lista, vc achou, retorne a posição. Se a chave for menor, ela estará na primeira metade da lista, caso contrário, ela estará na segunda metade."
   ]
  },
  {
   "cell_type": "code",
   "execution_count": 34,
   "metadata": {},
   "outputs": [],
   "source": [
    "def busca_binaria(lista, chave):\n",
    "    m = len(lista) // 2\n",
    "    \n",
    "    if chave == lista[m]:\n",
    "        return m\n",
    "    \n",
    "    if len(lista) == 1: # CORRECAO\n",
    "        return -1\n",
    "    \n",
    "    if chave < lista[m]:\n",
    "        ret = busca_binaria(lista[:m], chave)\n",
    "        \n",
    "    else:\n",
    "        ret = busca_binaria(lista[(m + 1):], chave)\n",
    "        \n",
    "        if ret >= 0:\n",
    "            ret += m + 1 # CORRECAO 2\n",
    "            \n",
    "    return ret"
   ]
  },
  {
   "cell_type": "code",
   "execution_count": 58,
   "metadata": {},
   "outputs": [
    {
     "data": {
      "text/plain": [
       "2"
      ]
     },
     "execution_count": 58,
     "metadata": {},
     "output_type": "execute_result"
    }
   ],
   "source": [
    "l = [1, 3, 5, 6, 7, 8, 10, 13]\n",
    "chave = 5\n",
    "\n",
    "\n",
    "busca_binaria(l, chave)\n"
   ]
  }
 ],
 "metadata": {
  "kernelspec": {
   "display_name": "Python 3",
   "language": "python",
   "name": "python3"
  },
  "language_info": {
   "codemirror_mode": {
    "name": "ipython",
    "version": 3
   },
   "file_extension": ".py",
   "mimetype": "text/x-python",
   "name": "python",
   "nbconvert_exporter": "python",
   "pygments_lexer": "ipython3",
   "version": "3.6.5"
  }
 },
 "nbformat": 4,
 "nbformat_minor": 2
}
