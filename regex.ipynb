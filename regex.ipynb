{
 "cells": [
  {
   "cell_type": "code",
   "execution_count": 2,
   "metadata": {},
   "outputs": [
    {
     "name": "stdout",
     "output_type": "stream",
     "text": [
      "Não achei\n"
     ]
    }
   ],
   "source": [
    "import re\n",
    "\n",
    "'''\n",
    "# Questão 1\n",
    "a) Não compila\n",
    "b) Achei: (4,8)\n",
    "c) Achei: (4,9)\n",
    "d) Achei: (5,7)\n",
    "e) Não achei.\n",
    "'''\n",
    "frase  = \"(19)96789-9812\"\n",
    "padrao = \"967\"\n",
    "\n",
    "objetoMatch = re.match(padrao, frase)\n",
    "\n",
    "if (objetoMatch):\n",
    "   print (\"Achei:\", objetoMatch.span())\n",
    "else:\n",
    "   print(\"Não achei\")"
   ]
  },
  {
   "cell_type": "code",
   "execution_count": 7,
   "metadata": {},
   "outputs": [
    {
     "ename": "error",
     "evalue": "missing ), unterminated subpattern at position 0",
     "output_type": "error",
     "traceback": [
      "\u001b[1;31m---------------------------------------------------------------------------\u001b[0m",
      "\u001b[1;31merror\u001b[0m                                     Traceback (most recent call last)",
      "\u001b[1;32m<ipython-input-7-3bf0286c2d49>\u001b[0m in \u001b[0;36m<module>\u001b[1;34m()\u001b[0m\n\u001b[0;32m     11\u001b[0m \u001b[0mpadrao\u001b[0m \u001b[1;33m=\u001b[0m \u001b[1;34m\"(\"\u001b[0m\u001b[1;33m\u001b[0m\u001b[0m\n\u001b[0;32m     12\u001b[0m \u001b[1;33m\u001b[0m\u001b[0m\n\u001b[1;32m---> 13\u001b[1;33m \u001b[0mobjetoMatch\u001b[0m \u001b[1;33m=\u001b[0m \u001b[0mre\u001b[0m\u001b[1;33m.\u001b[0m\u001b[0mmatch\u001b[0m\u001b[1;33m(\u001b[0m\u001b[0mpadrao\u001b[0m\u001b[1;33m,\u001b[0m \u001b[0mfrase\u001b[0m\u001b[1;33m)\u001b[0m\u001b[1;33m\u001b[0m\u001b[0m\n\u001b[0m\u001b[0;32m     14\u001b[0m \u001b[1;33m\u001b[0m\u001b[0m\n\u001b[0;32m     15\u001b[0m \u001b[1;32mif\u001b[0m \u001b[1;33m(\u001b[0m\u001b[0mobjetoMatch\u001b[0m\u001b[1;33m)\u001b[0m\u001b[1;33m:\u001b[0m\u001b[1;33m\u001b[0m\u001b[0m\n",
      "\u001b[1;32m~\\Anaconda3\\lib\\re.py\u001b[0m in \u001b[0;36mmatch\u001b[1;34m(pattern, string, flags)\u001b[0m\n\u001b[0;32m    170\u001b[0m     \"\"\"Try to apply the pattern at the start of the string, returning\n\u001b[0;32m    171\u001b[0m     a match object, or None if no match was found.\"\"\"\n\u001b[1;32m--> 172\u001b[1;33m     \u001b[1;32mreturn\u001b[0m \u001b[0m_compile\u001b[0m\u001b[1;33m(\u001b[0m\u001b[0mpattern\u001b[0m\u001b[1;33m,\u001b[0m \u001b[0mflags\u001b[0m\u001b[1;33m)\u001b[0m\u001b[1;33m.\u001b[0m\u001b[0mmatch\u001b[0m\u001b[1;33m(\u001b[0m\u001b[0mstring\u001b[0m\u001b[1;33m)\u001b[0m\u001b[1;33m\u001b[0m\u001b[0m\n\u001b[0m\u001b[0;32m    173\u001b[0m \u001b[1;33m\u001b[0m\u001b[0m\n\u001b[0;32m    174\u001b[0m \u001b[1;32mdef\u001b[0m \u001b[0mfullmatch\u001b[0m\u001b[1;33m(\u001b[0m\u001b[0mpattern\u001b[0m\u001b[1;33m,\u001b[0m \u001b[0mstring\u001b[0m\u001b[1;33m,\u001b[0m \u001b[0mflags\u001b[0m\u001b[1;33m=\u001b[0m\u001b[1;36m0\u001b[0m\u001b[1;33m)\u001b[0m\u001b[1;33m:\u001b[0m\u001b[1;33m\u001b[0m\u001b[0m\n",
      "\u001b[1;32m~\\Anaconda3\\lib\\re.py\u001b[0m in \u001b[0;36m_compile\u001b[1;34m(pattern, flags)\u001b[0m\n\u001b[0;32m    299\u001b[0m     \u001b[1;32mif\u001b[0m \u001b[1;32mnot\u001b[0m \u001b[0msre_compile\u001b[0m\u001b[1;33m.\u001b[0m\u001b[0misstring\u001b[0m\u001b[1;33m(\u001b[0m\u001b[0mpattern\u001b[0m\u001b[1;33m)\u001b[0m\u001b[1;33m:\u001b[0m\u001b[1;33m\u001b[0m\u001b[0m\n\u001b[0;32m    300\u001b[0m         \u001b[1;32mraise\u001b[0m \u001b[0mTypeError\u001b[0m\u001b[1;33m(\u001b[0m\u001b[1;34m\"first argument must be string or compiled pattern\"\u001b[0m\u001b[1;33m)\u001b[0m\u001b[1;33m\u001b[0m\u001b[0m\n\u001b[1;32m--> 301\u001b[1;33m     \u001b[0mp\u001b[0m \u001b[1;33m=\u001b[0m \u001b[0msre_compile\u001b[0m\u001b[1;33m.\u001b[0m\u001b[0mcompile\u001b[0m\u001b[1;33m(\u001b[0m\u001b[0mpattern\u001b[0m\u001b[1;33m,\u001b[0m \u001b[0mflags\u001b[0m\u001b[1;33m)\u001b[0m\u001b[1;33m\u001b[0m\u001b[0m\n\u001b[0m\u001b[0;32m    302\u001b[0m     \u001b[1;32mif\u001b[0m \u001b[1;32mnot\u001b[0m \u001b[1;33m(\u001b[0m\u001b[0mflags\u001b[0m \u001b[1;33m&\u001b[0m \u001b[0mDEBUG\u001b[0m\u001b[1;33m)\u001b[0m\u001b[1;33m:\u001b[0m\u001b[1;33m\u001b[0m\u001b[0m\n\u001b[0;32m    303\u001b[0m         \u001b[1;32mif\u001b[0m \u001b[0mlen\u001b[0m\u001b[1;33m(\u001b[0m\u001b[0m_cache\u001b[0m\u001b[1;33m)\u001b[0m \u001b[1;33m>=\u001b[0m \u001b[0m_MAXCACHE\u001b[0m\u001b[1;33m:\u001b[0m\u001b[1;33m\u001b[0m\u001b[0m\n",
      "\u001b[1;32m~\\Anaconda3\\lib\\sre_compile.py\u001b[0m in \u001b[0;36mcompile\u001b[1;34m(p, flags)\u001b[0m\n\u001b[0;32m    560\u001b[0m     \u001b[1;32mif\u001b[0m \u001b[0misstring\u001b[0m\u001b[1;33m(\u001b[0m\u001b[0mp\u001b[0m\u001b[1;33m)\u001b[0m\u001b[1;33m:\u001b[0m\u001b[1;33m\u001b[0m\u001b[0m\n\u001b[0;32m    561\u001b[0m         \u001b[0mpattern\u001b[0m \u001b[1;33m=\u001b[0m \u001b[0mp\u001b[0m\u001b[1;33m\u001b[0m\u001b[0m\n\u001b[1;32m--> 562\u001b[1;33m         \u001b[0mp\u001b[0m \u001b[1;33m=\u001b[0m \u001b[0msre_parse\u001b[0m\u001b[1;33m.\u001b[0m\u001b[0mparse\u001b[0m\u001b[1;33m(\u001b[0m\u001b[0mp\u001b[0m\u001b[1;33m,\u001b[0m \u001b[0mflags\u001b[0m\u001b[1;33m)\u001b[0m\u001b[1;33m\u001b[0m\u001b[0m\n\u001b[0m\u001b[0;32m    563\u001b[0m     \u001b[1;32melse\u001b[0m\u001b[1;33m:\u001b[0m\u001b[1;33m\u001b[0m\u001b[0m\n\u001b[0;32m    564\u001b[0m         \u001b[0mpattern\u001b[0m \u001b[1;33m=\u001b[0m \u001b[1;32mNone\u001b[0m\u001b[1;33m\u001b[0m\u001b[0m\n",
      "\u001b[1;32m~\\Anaconda3\\lib\\sre_parse.py\u001b[0m in \u001b[0;36mparse\u001b[1;34m(str, flags, pattern)\u001b[0m\n\u001b[0;32m    853\u001b[0m \u001b[1;33m\u001b[0m\u001b[0m\n\u001b[0;32m    854\u001b[0m     \u001b[1;32mtry\u001b[0m\u001b[1;33m:\u001b[0m\u001b[1;33m\u001b[0m\u001b[0m\n\u001b[1;32m--> 855\u001b[1;33m         \u001b[0mp\u001b[0m \u001b[1;33m=\u001b[0m \u001b[0m_parse_sub\u001b[0m\u001b[1;33m(\u001b[0m\u001b[0msource\u001b[0m\u001b[1;33m,\u001b[0m \u001b[0mpattern\u001b[0m\u001b[1;33m,\u001b[0m \u001b[0mflags\u001b[0m \u001b[1;33m&\u001b[0m \u001b[0mSRE_FLAG_VERBOSE\u001b[0m\u001b[1;33m,\u001b[0m \u001b[1;36m0\u001b[0m\u001b[1;33m)\u001b[0m\u001b[1;33m\u001b[0m\u001b[0m\n\u001b[0m\u001b[0;32m    856\u001b[0m     \u001b[1;32mexcept\u001b[0m \u001b[0mVerbose\u001b[0m\u001b[1;33m:\u001b[0m\u001b[1;33m\u001b[0m\u001b[0m\n\u001b[0;32m    857\u001b[0m         \u001b[1;31m# the VERBOSE flag was switched on inside the pattern.  to be\u001b[0m\u001b[1;33m\u001b[0m\u001b[1;33m\u001b[0m\u001b[0m\n",
      "\u001b[1;32m~\\Anaconda3\\lib\\sre_parse.py\u001b[0m in \u001b[0;36m_parse_sub\u001b[1;34m(source, state, verbose, nested)\u001b[0m\n\u001b[0;32m    414\u001b[0m     \u001b[1;32mwhile\u001b[0m \u001b[1;32mTrue\u001b[0m\u001b[1;33m:\u001b[0m\u001b[1;33m\u001b[0m\u001b[0m\n\u001b[0;32m    415\u001b[0m         itemsappend(_parse(source, state, verbose, nested + 1,\n\u001b[1;32m--> 416\u001b[1;33m                            not nested and not items))\n\u001b[0m\u001b[0;32m    417\u001b[0m         \u001b[1;32mif\u001b[0m \u001b[1;32mnot\u001b[0m \u001b[0msourcematch\u001b[0m\u001b[1;33m(\u001b[0m\u001b[1;34m\"|\"\u001b[0m\u001b[1;33m)\u001b[0m\u001b[1;33m:\u001b[0m\u001b[1;33m\u001b[0m\u001b[0m\n\u001b[0;32m    418\u001b[0m             \u001b[1;32mbreak\u001b[0m\u001b[1;33m\u001b[0m\u001b[0m\n",
      "\u001b[1;32m~\\Anaconda3\\lib\\sre_parse.py\u001b[0m in \u001b[0;36m_parse\u001b[1;34m(source, state, verbose, nested, first)\u001b[0m\n\u001b[0;32m    766\u001b[0m             \u001b[1;32mif\u001b[0m \u001b[1;32mnot\u001b[0m \u001b[0msource\u001b[0m\u001b[1;33m.\u001b[0m\u001b[0mmatch\u001b[0m\u001b[1;33m(\u001b[0m\u001b[1;34m\")\"\u001b[0m\u001b[1;33m)\u001b[0m\u001b[1;33m:\u001b[0m\u001b[1;33m\u001b[0m\u001b[0m\n\u001b[0;32m    767\u001b[0m                 raise source.error(\"missing ), unterminated subpattern\",\n\u001b[1;32m--> 768\u001b[1;33m                                    source.tell() - start)\n\u001b[0m\u001b[0;32m    769\u001b[0m             \u001b[1;32mif\u001b[0m \u001b[0mgroup\u001b[0m \u001b[1;32mis\u001b[0m \u001b[1;32mnot\u001b[0m \u001b[1;32mNone\u001b[0m\u001b[1;33m:\u001b[0m\u001b[1;33m\u001b[0m\u001b[0m\n\u001b[0;32m    770\u001b[0m                 \u001b[0mstate\u001b[0m\u001b[1;33m.\u001b[0m\u001b[0mclosegroup\u001b[0m\u001b[1;33m(\u001b[0m\u001b[0mgroup\u001b[0m\u001b[1;33m,\u001b[0m \u001b[0mp\u001b[0m\u001b[1;33m)\u001b[0m\u001b[1;33m\u001b[0m\u001b[0m\n",
      "\u001b[1;31merror\u001b[0m: missing ), unterminated subpattern at position 0"
     ]
    }
   ],
   "source": [
    "'''\n",
    "Questão 2\n",
    "a) Não compila\n",
    "b) Achei: (0,0)\n",
    "c) Achei: (0,1)\n",
    "d) Achei: (0,2)\n",
    "e) Não achei.\n",
    "'''\n",
    "\n",
    "frase  = \"(19)96789-9812\"\n",
    "padrao = \"(\"\n",
    "\n",
    "objetoMatch = re.match(padrao, frase)\n",
    "\n",
    "if (objetoMatch):\n",
    "   print (\"Achei:\", objetoMatch.span())\n",
    "else:\n",
    "   print(\"Não achei\")"
   ]
  },
  {
   "cell_type": "code",
   "execution_count": 9,
   "metadata": {},
   "outputs": [
    {
     "name": "stdout",
     "output_type": "stream",
     "text": [
      "Achei: (0, 3)\n"
     ]
    }
   ],
   "source": [
    "'''\n",
    "Questão 3\n",
    "a) Não compila\n",
    "b) Achei: (0,2)\n",
    "c) Achei: (0,3)\n",
    "d) Achei: (1,2)\n",
    "e) Não achei.\n",
    "'''\n",
    "\n",
    "frase  = \"(19)96789-9812\"\n",
    "padrao = \"\\(19\"\n",
    "\n",
    "objetoMatch = re.search(padrao, frase)\n",
    "\n",
    "if (objetoMatch):\n",
    "   print (\"Achei:\", objetoMatch.span())\n",
    "else:\n",
    "   print(\"Não achei\")"
   ]
  },
  {
   "cell_type": "code",
   "execution_count": 10,
   "metadata": {},
   "outputs": [
    {
     "name": "stdout",
     "output_type": "stream",
     "text": [
      "Achei: (4, 7)\n"
     ]
    }
   ],
   "source": [
    "'''\n",
    "Questão 4\n",
    "a) Não compila\n",
    "b) Achei: (3,7)\n",
    "c) Achei: (3,8)\n",
    "d) Achei: (4,7)\n",
    "e) Não achei.\n",
    "'''\n",
    "\n",
    "frase  = \"(19)96789-9812\"\n",
    "padrao = \"967\"\n",
    "\n",
    "objetoMatch = re.search(padrao, frase)\n",
    "\n",
    "if (objetoMatch):\n",
    "   print (\"Achei:\", objetoMatch.span())\n",
    "else:\n",
    "   print(\"Não achei\")"
   ]
  },
  {
   "cell_type": "code",
   "execution_count": 11,
   "metadata": {},
   "outputs": [
    {
     "name": "stdout",
     "output_type": "stream",
     "text": [
      "Achei: (2, 3)\n"
     ]
    }
   ],
   "source": [
    "'''\n",
    "Questão 5\n",
    "a) Não compila\n",
    "b) Achei: (2,2)\n",
    "c) Achei: (2,3)\n",
    "d) Achei: (1,2)\n",
    "e) Não achei.\n",
    "'''\n",
    "\n",
    "frase  = \"(19)96789-9812\"\n",
    "padrao = \"9\"\n",
    "\n",
    "objetoMatch = re.search(padrao, frase)\n",
    "\n",
    "if (objetoMatch):\n",
    "   print (\"Achei:\", objetoMatch.span())\n",
    "else:\n",
    "   print(\"Não achei\")"
   ]
  },
  {
   "cell_type": "code",
   "execution_count": 13,
   "metadata": {},
   "outputs": [
    {
     "name": "stdout",
     "output_type": "stream",
     "text": [
      "Achei: (0, 14)\n"
     ]
    }
   ],
   "source": [
    "'''\n",
    "Questão 6\n",
    "a) Não compila\n",
    "b) Achei: (0,13)\n",
    "c) Achei: (0,14)\n",
    "d) Achei: (0,12)\n",
    "e) Não achei.\n",
    "'''\n",
    "\n",
    "#NUMERO corresponde a: (XX)XXXXX-XXXX\n",
    "dicionario = {\"NUMERO\":r'\\A\\(\\d\\d\\)\\d\\d\\d\\d\\d-\\d\\d\\d\\d'}\n",
    "frase  = \"(19)96789-9812\"\n",
    "padrao = dicionario[\"NUMERO\"]\n",
    " \n",
    "objetoMatch = re.search(padrao, frase)\n",
    " \n",
    "if (objetoMatch):\n",
    "    print (\"Achei:\", objetoMatch.span())\n",
    "else:\n",
    "    print(\"Não achei\")"
   ]
  },
  {
   "cell_type": "code",
   "execution_count": 14,
   "metadata": {},
   "outputs": [
    {
     "name": "stdout",
     "output_type": "stream",
     "text": [
      "Não achei\n"
     ]
    }
   ],
   "source": [
    "'''\n",
    "Questão 7\n",
    "a) Não compila\n",
    "b) Achei: (0,13)\n",
    "c) Achei: (0,14)\n",
    "d) Achei: (0,12)\n",
    "e) Não achei.\n",
    "'''\n",
    "\n",
    "#NUMERO corresponde a: (XX)XXXXXXXXX\n",
    "dicionario = {\"NUMERO\":r'\\A\\(\\d\\d\\)\\d\\d\\d\\d\\d\\d\\d\\d\\d'}\n",
    "frase  = \"(19)96789-9812\"\n",
    "padrao = dicionario[\"NUMERO\"]\n",
    " \n",
    "objetoMatch = re.search(padrao, frase)\n",
    " \n",
    "if (objetoMatch):\n",
    "    print (\"Achei:\", objetoMatch.span())\n",
    "else:\n",
    "    print(\"Não achei\")"
   ]
  },
  {
   "cell_type": "code",
   "execution_count": 15,
   "metadata": {},
   "outputs": [
    {
     "name": "stdout",
     "output_type": "stream",
     "text": [
      "Não achei\n"
     ]
    }
   ],
   "source": [
    "'''\n",
    "Questão 8\n",
    "a) Não compila\n",
    "b) Achei: (25,39)\n",
    "c) Achei: (25,40)\n",
    "d) Achei: (24,38)\n",
    "e) Não achei.\n",
    "'''\n",
    "\n",
    "#NUMERO corresponde a: (XX)XXXXX-XXX\n",
    "dicionario = {\"NUMERO\":r'\\A\\(\\d\\d\\)\\d\\d\\d\\d\\d-\\d\\d\\d\\d'}\n",
    "frase  = \"Eu assisto Monty Python. (19)96789-9812\"\n",
    "padrao = dicionario[\"NUMERO\"]\n",
    " \n",
    "objetoMatch = re.search(padrao, frase)\n",
    " \n",
    "if (objetoMatch):\n",
    "    print (\"Achei:\", objetoMatch.span())\n",
    "else:\n",
    "    print(\"Não achei\")\n",
    "     "
   ]
  },
  {
   "cell_type": "code",
   "execution_count": 16,
   "metadata": {},
   "outputs": [
    {
     "name": "stdout",
     "output_type": "stream",
     "text": [
      "Achei: (25, 39)\n"
     ]
    }
   ],
   "source": [
    "'''\n",
    "Questão 9\n",
    "a) Não compila\n",
    "b) Achei: (25,39)\n",
    "c) Achei: (25,40)\n",
    "d) Achei: (24,38)\n",
    "e) Não achei.\n",
    "'''\n",
    "\n",
    "#NUMERO corresponde a: (XX)XXXXX-XXX\n",
    "dicionario = {\"NUMERO\":r'\\(\\d\\d\\)\\d\\d\\d\\d\\d-\\d\\d\\d\\d'}\n",
    "frase  = \"Eu assisto Monty Python. (19)96789-9812\"\n",
    "padrao = dicionario[\"NUMERO\"]\n",
    " \n",
    "objetoMatch = re.search(padrao, frase)\n",
    " \n",
    "if (objetoMatch):\n",
    "    print (\"Achei:\", objetoMatch.span())\n",
    "else:\n",
    "    print(\"Não achei\")"
   ]
  }
 ],
 "metadata": {
  "kernelspec": {
   "display_name": "Python 3",
   "language": "python",
   "name": "python3"
  },
  "language_info": {
   "codemirror_mode": {
    "name": "ipython",
    "version": 3
   },
   "file_extension": ".py",
   "mimetype": "text/x-python",
   "name": "python",
   "nbconvert_exporter": "python",
   "pygments_lexer": "ipython3",
   "version": "3.6.5"
  }
 },
 "nbformat": 4,
 "nbformat_minor": 2
}
